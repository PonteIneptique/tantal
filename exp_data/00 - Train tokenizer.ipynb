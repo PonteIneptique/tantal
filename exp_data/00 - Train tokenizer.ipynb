{
 "cells": [
  {
   "cell_type": "code",
   "execution_count": 1,
   "id": "e8ec04bb",
   "metadata": {
    "pycharm": {
     "name": "#%%\n"
    }
   },
   "outputs": [],
   "source": [
    "from tokenizers.models import Unigram\n",
    "\n",
    "from tokenizers import Tokenizer, models, normalizers, pre_tokenizers, decoders, trainers\n",
    "\n",
    "tokenizer = Tokenizer(models.Unigram())\n",
    "tokenizer.normalizer = normalizers.NFD()\n",
    "tokenizer.pre_tokenizer = pre_tokenizers.ByteLevel()\n",
    "tokenizer.decoder = decoders.ByteLevel()\n",
    "trainer = trainers.UnigramTrainer(\n",
    "    vocab_size=20000,\n",
    "    initial_alphabet=pre_tokenizers.ByteLevel.alphabet(),\n",
    "    special_tokens=[\"<PAD>\", \"<BOS>\", \"<EOS>\"],\n",
    ")\n"
   ]
  },
  {
   "cell_type": "code",
   "execution_count": 28,
   "id": "f598cb48",
   "metadata": {
    "pycharm": {
     "name": "#%%\n"
    }
   },
   "outputs": [
    {
     "name": "stdout",
     "output_type": "stream",
     "text": [
      "\n",
      "\n"
     ]
    }
   ],
   "source": [
    "import re\n",
    "import glob\n",
    "from typing import List\n",
    "\n",
    "\n",
    "def stringify(sentence: List[str]) -> str:\n",
    "    return re.sub(r\"([\\(\\)'\\\"]) | ([\\.\\:;,\\\"])\", \"\\g<2>\\g<1>\", \" \".join(sentence))\n",
    "\n",
    "\n",
    "def parse(paths=(\n",
    "    \"./OF3C/tsv/*.tsv\",\n",
    "    \"./word_segmentation_data/fro/src/bfm/txt/*.txt\",\n",
    "    \"./word_segmentation_data/fro/src/nca/txt/*.txt\")):\n",
    "    for path in paths:\n",
    "        for file in glob.glob(path):\n",
    "            out_form, out_lemma = [[]], [[]]\n",
    "            with open(file) as f:\n",
    "                if file.endswith(\".tsv\"):\n",
    "                    for idx, line in enumerate(f):\n",
    "                        if idx == 0:\n",
    "                            continue\n",
    "                        if len(line.strip().split()) > 2:\n",
    "                            form, lemma, *_ = line.strip().split()\n",
    "                            out_form[-1].append(form)\n",
    "                            out_lemma[-1].append(lemma)\n",
    "                        elif out_form[-1]:\n",
    "                            out_form.append([])\n",
    "                            out_lemma.append([])\n",
    "                    yield from [stringify(sentence) for sentence in out_form]\n",
    "                    yield from [stringify(sentence) for sentence in out_lemma]\n",
    "                elif file.endswith(\".txt\"):\n",
    "                    yield from re.split(\"(\\.!?) \", f.read())\n",
    "        \n",
    "tokenizer.train_from_iterator(parse(), trainer=trainer)"
   ]
  },
  {
   "cell_type": "code",
   "execution_count": 29,
   "id": "55f3ab9c",
   "metadata": {
    "pycharm": {
     "name": "#%%\n"
    }
   },
   "outputs": [],
   "source": [
    "tokenizer.save(\"here.json\")"
   ]
  }
 ],
 "metadata": {
  "kernelspec": {
   "display_name": "Python 3 (ipykernel)",
   "language": "python",
   "name": "python3"
  },
  "language_info": {
   "codemirror_mode": {
    "name": "ipython",
    "version": 3
   },
   "file_extension": ".py",
   "mimetype": "text/x-python",
   "name": "python",
   "nbconvert_exporter": "python",
   "pygments_lexer": "ipython3",
   "version": "3.8.10"
  }
 },
 "nbformat": 4,
 "nbformat_minor": 5
}