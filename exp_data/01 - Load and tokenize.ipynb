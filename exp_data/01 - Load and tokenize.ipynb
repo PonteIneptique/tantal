{
 "cells": [
  {
   "cell_type": "code",
   "execution_count": 1,
   "id": "22ba7dc1",
   "metadata": {},
   "outputs": [],
   "source": [
    "from tokenizers import Tokenizer\n",
    "\n",
    "tokenizer = Tokenizer.from_file(\"here.json\")"
   ]
  },
  {
   "cell_type": "code",
   "execution_count": 2,
   "id": "63edccf9",
   "metadata": {},
   "outputs": [
    {
     "data": {
      "text/plain": [
       "[(0, 1), (0, 1), (1, 3), (0, 3), (0, 2), (2, 3), (3, 7)]"
      ]
     },
     "execution_count": 2,
     "metadata": {},
     "output_type": "execute_result"
    }
   ],
   "source": [
    "tokenizer.encode([\"ego\", \"sum\", \"pulcher\"], is_pretokenized=True).offsets\n",
    "# == ego"
   ]
  },
  {
   "cell_type": "code",
   "execution_count": 3,
   "id": "0935b538",
   "metadata": {},
   "outputs": [
    {
     "data": {
      "text/plain": [
       "['Ġ', 'e', 'go', 'Ġsum', 'Ġpu', 'l', 'cher']"
      ]
     },
     "execution_count": 3,
     "metadata": {},
     "output_type": "execute_result"
    }
   ],
   "source": [
    "tokenizer.encode([\"ego\", \"sum\", \"pulcher\"], is_pretokenized=True).tokens"
   ]
  },
  {
   "cell_type": "code",
   "execution_count": 26,
   "id": "45f3c918",
   "metadata": {},
   "outputs": [
    {
     "data": {
      "text/plain": [
       "[[3, 6, 3984], [8445], [2603, 18, 3321]]"
      ]
     },
     "execution_count": 26,
     "metadata": {},
     "output_type": "execute_result"
    }
   ],
   "source": [
    "data = tokenizer.encode([\"ego\", \"sum\", \"pulcher\"], is_pretokenized=True)\n",
    "\n",
    "def get_word_groups(sentence):\n",
    "    groups = [[] for i in range(max(sentence.word_ids) + 1)]\n",
    "    for idx, word_id in enumerate(sentence.word_ids):\n",
    "        groups[word_id].append(sentence.ids[idx])\n",
    "    return groups\n",
    "\n",
    "get_word_groups(data)"
   ]
  },
  {
   "cell_type": "code",
   "execution_count": null,
   "id": "e86ccd79",
   "metadata": {},
   "outputs": [],
   "source": [
    "Capture d’écran du 2022-05-28 15-00-23Capture d’écran du 2022-05-28 15-00-23"
   ]
  }
 ],
 "metadata": {
  "kernelspec": {
   "display_name": "Python 3 (ipykernel)",
   "language": "python",
   "name": "python3"
  },
  "language_info": {
   "codemirror_mode": {
    "name": "ipython",
    "version": 3
   },
   "file_extension": ".py",
   "mimetype": "text/x-python",
   "name": "python",
   "nbconvert_exporter": "python",
   "pygments_lexer": "ipython3",
   "version": "3.8.10"
  }
 },
 "nbformat": 4,
 "nbformat_minor": 5
}
